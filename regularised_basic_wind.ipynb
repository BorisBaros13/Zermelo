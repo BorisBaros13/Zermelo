{
 "cells": [
  {
   "cell_type": "code",
   "execution_count": null,
   "id": "49964fa0",
   "metadata": {},
   "outputs": [],
   "source": [
    "import torch\n",
    "import torch.nn as nn\n",
    "import torch.optim as optim\n",
    "import math\n",
    "import pickle\n",
    "import numpy as np\n",
    "import matplotlib.pyplot as plt\n",
    "from IPython.display import HTML\n",
    "from matplotlib import animation\n",
    "from matplotlib.collections import LineCollection\n",
    "\n",
    "# Device setup\n",
    "device = torch.device('cuda' if torch.cuda.is_available() else 'cpu')\n",
    "torch.set_default_dtype(torch.float32)\n",
    "print(\"Running on:\", device)"
   ]
  },
  {
   "cell_type": "markdown",
   "id": "09ea0002",
   "metadata": {},
   "source": [
    "### Regularised Version\n",
    "\n",
    "In this file we will note down the regularised training procedure. This will then be used in the scripts later. Note that the regularised training procedure is different in architecture, using mean-field neural networks (note the mean-field scaling). "
   ]
  },
  {
   "cell_type": "code",
   "execution_count": null,
   "id": "fcf5afcb",
   "metadata": {},
   "outputs": [],
   "source": [
    "# hyperparameters and wind generator function\n",
    "n = 50\n",
    "T = 50\n",
    "L_x = 20\n",
    "theta = 0.1\n",
    "mu = 0\n",
    "wind_sigma = 0.05\n",
    "tau = torch.tensor(1, device = device)\n",
    "# we will discretise wind on a finer grid, then choose only the relevant points\n",
    "# assuming that the trajectory is discretised with time-step 1\n",
    "def wind_process(T, theta, mu, wind_sigma, n, tau):\n",
    "    num_to_sim = int(T / tau)\n",
    "    winds = torch.zeros(n, num_to_sim + 1, device = device)\n",
    "    winds[:, 0] = 0.5 * torch.rand(n , device = device) - 0.25 \n",
    "    for step in range(1, num_to_sim + 1):\n",
    "        dW = torch.randn(n , device = device)\n",
    "        winds[:, step] = winds[:, step - 1] +(mu - winds[:, step - 1]) * theta * tau + wind_sigma * torch.sqrt(tau) * dW\n",
    "    # only return winds for the integer time-steps\n",
    "    final_wind = winds[:, 1:][:, ::int(1 / tau)]\n",
    "    # add initial wind to the front\n",
    "    winds = torch.cat((winds[:, 0].view(n, 1), final_wind), dim = 1)\n",
    "    return winds"
   ]
  },
  {
   "cell_type": "code",
   "execution_count": null,
   "id": "57a3436e",
   "metadata": {},
   "outputs": [],
   "source": [
    "class NeuralNet(nn.Module):\n",
    "    def __init__(self, input_dim, width, output_dim):\n",
    "        super(NeuralNet, self).__init__()\n",
    "        self.hidden_layer = nn.Linear(input_dim, width)\n",
    "        # self.hidden_layer.bias.data.zero_()\n",
    "        # self.hidden_layer.bias.requires_grad = False\n",
    "        self.sigmoid = nn.Tanh()\n",
    "        self.output_layer = nn.Linear(width, output_dim)\n",
    "        # self.output_layer.bias.data.zero_()\n",
    "        # self.output_layer.bias.requires_grad = False\n",
    "        self.width = width\n",
    "\n",
    "    def forward(self, x):\n",
    "        hidden_activations = self.sigmoid(self.hidden_layer(x))\n",
    "        unscaled = self.output_layer(hidden_activations)\n",
    "        return unscaled# / self.width"
   ]
  }
 ],
 "metadata": {
  "language_info": {
   "name": "python"
  }
 },
 "nbformat": 4,
 "nbformat_minor": 5
}
